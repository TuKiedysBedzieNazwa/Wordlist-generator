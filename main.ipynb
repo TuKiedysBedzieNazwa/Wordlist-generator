{
 "cells": [
  {
   "cell_type": "code",
   "execution_count": 6,
   "metadata": {},
   "outputs": [
    {
     "name": "stdout",
     "output_type": "stream",
     "text": [
      "['elektron']\n"
     ]
    }
   ],
   "source": [
    "# jak ja nie cierpie rekurencji\n",
    "\n",
    "with open(\"input.txt\") as f:\n",
    "    data = f.read()\n",
    "\n",
    "data = data.split()\n",
    "print(data)"
   ]
  },
  {
   "cell_type": "code",
   "execution_count": 7,
   "metadata": {},
   "outputs": [],
   "source": [
    "def format(word: str) -> str:\n",
    "    return f\"{word}\\n\""
   ]
  },
  {
   "cell_type": "code",
   "execution_count": 8,
   "metadata": {},
   "outputs": [],
   "source": [
    "from itertools import product\n",
    "\n",
    "def upper(word: str) -> list[str]:\n",
    "    return list(map(\"\".join, product(*zip(word.lower(), word.upper()))))\n"
   ]
  },
  {
   "cell_type": "code",
   "execution_count": 9,
   "metadata": {},
   "outputs": [],
   "source": [
    "import math\n",
    "\n",
    "def addNumbers(word: str) -> list[str]:\n",
    "    arr = []\n",
    "    for i in range(1000):\n",
    "        arr.append(f\"{word}{math.floor(i/100)%10}{math.floor(i/10)%10}{i%10}\")\n",
    "    for i in range(100):\n",
    "        arr.append(f\"{word}{math.floor(i/10)%10}{i%10}\")\n",
    "    for i in range(10):\n",
    "        arr.append(f\"{word}{i}\")\n",
    "\n",
    "    return arr\n"
   ]
  },
  {
   "cell_type": "code",
   "execution_count": 10,
   "metadata": {},
   "outputs": [
    {
     "name": "stdout",
     "output_type": "stream",
     "text": [
      "dictionary length: 256\n"
     ]
    }
   ],
   "source": [
    "def main() -> None:\n",
    "\n",
    "    words = []\n",
    "    nums = []\n",
    "\n",
    "    for word in data:\n",
    "        words += upper(word)\n",
    "\n",
    "    for word in words:\n",
    "        nums += addNumbers(word)\n",
    "\n",
    "    print(f\"dictionary length: {len(words) + len(nums)}\")\n",
    "\n",
    "    with open(\"output.txt\", \"w\") as f:\n",
    "        for i in words: f.write(format(i))\n",
    "        for i in nums: f.write(format(i))\n",
    "\n",
    "main()"
   ]
  },
  {
   "cell_type": "code",
   "execution_count": null,
   "metadata": {},
   "outputs": [],
   "source": []
  }
 ],
 "metadata": {
  "kernelspec": {
   "display_name": "base",
   "language": "python",
   "name": "python3"
  },
  "language_info": {
   "codemirror_mode": {
    "name": "ipython",
    "version": 3
   },
   "file_extension": ".py",
   "mimetype": "text/x-python",
   "name": "python",
   "nbconvert_exporter": "python",
   "pygments_lexer": "ipython3",
   "version": "3.11.5"
  },
  "orig_nbformat": 4
 },
 "nbformat": 4,
 "nbformat_minor": 2
}
